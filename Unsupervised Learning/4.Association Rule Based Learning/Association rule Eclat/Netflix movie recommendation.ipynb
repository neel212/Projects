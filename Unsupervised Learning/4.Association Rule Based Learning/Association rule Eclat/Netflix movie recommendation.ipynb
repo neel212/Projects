{
 "cells": [
  {
   "cell_type": "code",
   "execution_count": 1,
   "id": "451857c4",
   "metadata": {},
   "outputs": [
    {
     "name": "stdout",
     "output_type": "stream",
     "text": [
      "Requirement already satisfied: apyori in e:\\anaconda\\lib\\site-packages (1.1.2)\n"
     ]
    }
   ],
   "source": [
    "!pip install apyori"
   ]
  },
  {
   "cell_type": "code",
   "execution_count": 3,
   "id": "1003f2e8",
   "metadata": {},
   "outputs": [],
   "source": [
    "import numpy as np\n",
    "import pandas as pd\n",
    "import matplotlib.pyplot as plt"
   ]
  },
  {
   "cell_type": "code",
   "execution_count": 13,
   "id": "242f6c4e",
   "metadata": {},
   "outputs": [],
   "source": [
    "data_set = pd.read_csv('Netflix Movie recommendation.csv')"
   ]
  },
  {
   "cell_type": "code",
   "execution_count": 20,
   "id": "e5479426",
   "metadata": {},
   "outputs": [],
   "source": [
    "transactions = []\n",
    "for i in range(data_set.shape[0]):\n",
    "    transaction = []\n",
    "    for j in range(data_set.shape[1]):\n",
    "        value = str(data_set.iat[i,j])\n",
    "        transaction.append(value)\n",
    "    transactions.append(transaction)"
   ]
  },
  {
   "cell_type": "code",
   "execution_count": 54,
   "id": "fda8b82f",
   "metadata": {},
   "outputs": [],
   "source": [
    "from apyori import apriori\n",
    "rules = apriori(transactions = transactions, min_support = 0.003, min_confidence = 0.2, min_lift = 3, min_length = 2, max_length = 2)"
   ]
  },
  {
   "cell_type": "code",
   "execution_count": 55,
   "id": "9fa8dc87",
   "metadata": {},
   "outputs": [],
   "source": [
    "results = list(rules)"
   ]
  },
  {
   "cell_type": "code",
   "execution_count": 56,
   "id": "04b8d498",
   "metadata": {},
   "outputs": [
    {
     "data": {
      "text/plain": [
       "[RelationRecord(items=frozenset({'Captain America', 'Black Panther'}), support=0.003348961821835231, ordered_statistics=[OrderedStatistic(items_base=frozenset({'Captain America'}), items_add=frozenset({'Black Panther'}), confidence=0.2450980392156863, lift=5.153962993648164)]),\n",
       " RelationRecord(items=frozenset({'Comedy nights with Kapil', 'Game of thrones'}), support=0.003215003348961822, ordered_statistics=[OrderedStatistic(items_base=frozenset({'Game of thrones'}), items_add=frozenset({'Comedy nights with Kapil'}), confidence=0.2051282051282051, lift=3.1060487855619696)]),\n",
       " RelationRecord(items=frozenset({'Comedy nights with Kapil', 'Kanan Gill Comedy'}), support=0.008037508372404554, ordered_statistics=[OrderedStatistic(items_base=frozenset({'Kanan Gill Comedy'}), items_add=frozenset({'Comedy nights with Kapil'}), confidence=0.27149321266968324, lift=4.110946922067313)]),\n",
       " RelationRecord(items=frozenset({'Prision Break', 'Game of thrones'}), support=0.004554588077695914, ordered_statistics=[OrderedStatistic(items_base=frozenset({'Game of thrones'}), items_add=frozenset({'Prision Break'}), confidence=0.29059829059829057, lift=4.831439285782269)]),\n",
       " RelationRecord(items=frozenset({'Harry Potter 2', 'Harry Potter 1'}), support=0.005760214333556598, ordered_statistics=[OrderedStatistic(items_base=frozenset({'Harry Potter 1'}), items_add=frozenset({'Harry Potter 2'}), confidence=0.3675213675213675, lift=4.642211520384109)]),\n",
       " RelationRecord(items=frozenset({'The Lord of the rings', 'Harry Potter 1'}), support=0.005090421969189551, ordered_statistics=[OrderedStatistic(items_base=frozenset({'Harry Potter 1'}), items_add=frozenset({'The Lord of the rings'}), confidence=0.32478632478632474, lift=4.531831615943765)]),\n",
       " RelationRecord(items=frozenset({'crimes of grindelwald', 'Harry Potter 2'}), support=0.005760214333556598, ordered_statistics=[OrderedStatistic(items_base=frozenset({'crimes of grindelwald'}), items_add=frozenset({'Harry Potter 2'}), confidence=0.3006993006993007, lift=3.7981730621324528)]),\n",
       " RelationRecord(items=frozenset({'Interstellar', 'inception'}), support=0.0159410582719357, ordered_statistics=[OrderedStatistic(items_base=frozenset({'Interstellar'}), items_add=frozenset({'inception'}), confidence=0.3216216216216216, lift=3.26209973560517)]),\n",
       " RelationRecord(items=frozenset({'inception', 'The Wolf of Wall Street'}), support=0.0053583389149363695, ordered_statistics=[OrderedStatistic(items_base=frozenset({'The Wolf of Wall Street'}), items_add=frozenset({'inception'}), confidence=0.37735849056603776, lift=3.827420016406891)])]"
      ]
     },
     "execution_count": 56,
     "metadata": {},
     "output_type": "execute_result"
    }
   ],
   "source": [
    "results"
   ]
  },
  {
   "cell_type": "code",
   "execution_count": 57,
   "id": "d2042715",
   "metadata": {},
   "outputs": [],
   "source": [
    "def inspect(results):\n",
    "    movie_1 = [tuple(result[2][0][0]) for result in results]\n",
    "    movie_2 = [tuple(result[2][0][1]) for  result in results]\n",
    "    support = [result[1] for result in results]\n",
    "    \n",
    "    return list(zip(movie_1, movie_2, support))\n",
    "resultinDataframe = pd.DataFrame(inspect(results), columns = ['movie_1', 'movie_2', 'support'])"
   ]
  },
  {
   "cell_type": "code",
   "execution_count": 58,
   "id": "8086c0e7",
   "metadata": {},
   "outputs": [
    {
     "data": {
      "text/html": [
       "<div>\n",
       "<style scoped>\n",
       "    .dataframe tbody tr th:only-of-type {\n",
       "        vertical-align: middle;\n",
       "    }\n",
       "\n",
       "    .dataframe tbody tr th {\n",
       "        vertical-align: top;\n",
       "    }\n",
       "\n",
       "    .dataframe thead th {\n",
       "        text-align: right;\n",
       "    }\n",
       "</style>\n",
       "<table border=\"1\" class=\"dataframe\">\n",
       "  <thead>\n",
       "    <tr style=\"text-align: right;\">\n",
       "      <th></th>\n",
       "      <th>movie_1</th>\n",
       "      <th>movie_2</th>\n",
       "      <th>support</th>\n",
       "    </tr>\n",
       "  </thead>\n",
       "  <tbody>\n",
       "    <tr>\n",
       "      <th>0</th>\n",
       "      <td>(Captain America,)</td>\n",
       "      <td>(Black Panther,)</td>\n",
       "      <td>0.003349</td>\n",
       "    </tr>\n",
       "    <tr>\n",
       "      <th>1</th>\n",
       "      <td>(Game of thrones,)</td>\n",
       "      <td>(Comedy nights with Kapil,)</td>\n",
       "      <td>0.003215</td>\n",
       "    </tr>\n",
       "    <tr>\n",
       "      <th>2</th>\n",
       "      <td>(Kanan Gill Comedy,)</td>\n",
       "      <td>(Comedy nights with Kapil,)</td>\n",
       "      <td>0.008038</td>\n",
       "    </tr>\n",
       "    <tr>\n",
       "      <th>3</th>\n",
       "      <td>(Game of thrones,)</td>\n",
       "      <td>(Prision Break,)</td>\n",
       "      <td>0.004555</td>\n",
       "    </tr>\n",
       "    <tr>\n",
       "      <th>4</th>\n",
       "      <td>(Harry Potter 1,)</td>\n",
       "      <td>(Harry Potter 2,)</td>\n",
       "      <td>0.005760</td>\n",
       "    </tr>\n",
       "    <tr>\n",
       "      <th>5</th>\n",
       "      <td>(Harry Potter 1,)</td>\n",
       "      <td>(The Lord of the rings,)</td>\n",
       "      <td>0.005090</td>\n",
       "    </tr>\n",
       "    <tr>\n",
       "      <th>6</th>\n",
       "      <td>(crimes of grindelwald,)</td>\n",
       "      <td>(Harry Potter 2,)</td>\n",
       "      <td>0.005760</td>\n",
       "    </tr>\n",
       "    <tr>\n",
       "      <th>7</th>\n",
       "      <td>(Interstellar,)</td>\n",
       "      <td>(inception,)</td>\n",
       "      <td>0.015941</td>\n",
       "    </tr>\n",
       "    <tr>\n",
       "      <th>8</th>\n",
       "      <td>(The Wolf of Wall Street,)</td>\n",
       "      <td>(inception,)</td>\n",
       "      <td>0.005358</td>\n",
       "    </tr>\n",
       "  </tbody>\n",
       "</table>\n",
       "</div>"
      ],
      "text/plain": [
       "                      movie_1                      movie_2   support\n",
       "0          (Captain America,)             (Black Panther,)  0.003349\n",
       "1          (Game of thrones,)  (Comedy nights with Kapil,)  0.003215\n",
       "2        (Kanan Gill Comedy,)  (Comedy nights with Kapil,)  0.008038\n",
       "3          (Game of thrones,)             (Prision Break,)  0.004555\n",
       "4           (Harry Potter 1,)            (Harry Potter 2,)  0.005760\n",
       "5           (Harry Potter 1,)     (The Lord of the rings,)  0.005090\n",
       "6    (crimes of grindelwald,)            (Harry Potter 2,)  0.005760\n",
       "7             (Interstellar,)                 (inception,)  0.015941\n",
       "8  (The Wolf of Wall Street,)                 (inception,)  0.005358"
      ]
     },
     "execution_count": 58,
     "metadata": {},
     "output_type": "execute_result"
    }
   ],
   "source": [
    "resultinDataframe"
   ]
  },
  {
   "cell_type": "code",
   "execution_count": 59,
   "id": "12c0ab43",
   "metadata": {},
   "outputs": [
    {
     "data": {
      "text/html": [
       "<div>\n",
       "<style scoped>\n",
       "    .dataframe tbody tr th:only-of-type {\n",
       "        vertical-align: middle;\n",
       "    }\n",
       "\n",
       "    .dataframe tbody tr th {\n",
       "        vertical-align: top;\n",
       "    }\n",
       "\n",
       "    .dataframe thead th {\n",
       "        text-align: right;\n",
       "    }\n",
       "</style>\n",
       "<table border=\"1\" class=\"dataframe\">\n",
       "  <thead>\n",
       "    <tr style=\"text-align: right;\">\n",
       "      <th></th>\n",
       "      <th>movie_1</th>\n",
       "      <th>movie_2</th>\n",
       "      <th>support</th>\n",
       "    </tr>\n",
       "  </thead>\n",
       "  <tbody>\n",
       "    <tr>\n",
       "      <th>7</th>\n",
       "      <td>(Interstellar,)</td>\n",
       "      <td>(inception,)</td>\n",
       "      <td>0.015941</td>\n",
       "    </tr>\n",
       "    <tr>\n",
       "      <th>2</th>\n",
       "      <td>(Kanan Gill Comedy,)</td>\n",
       "      <td>(Comedy nights with Kapil,)</td>\n",
       "      <td>0.008038</td>\n",
       "    </tr>\n",
       "    <tr>\n",
       "      <th>4</th>\n",
       "      <td>(Harry Potter 1,)</td>\n",
       "      <td>(Harry Potter 2,)</td>\n",
       "      <td>0.005760</td>\n",
       "    </tr>\n",
       "    <tr>\n",
       "      <th>6</th>\n",
       "      <td>(crimes of grindelwald,)</td>\n",
       "      <td>(Harry Potter 2,)</td>\n",
       "      <td>0.005760</td>\n",
       "    </tr>\n",
       "    <tr>\n",
       "      <th>8</th>\n",
       "      <td>(The Wolf of Wall Street,)</td>\n",
       "      <td>(inception,)</td>\n",
       "      <td>0.005358</td>\n",
       "    </tr>\n",
       "    <tr>\n",
       "      <th>5</th>\n",
       "      <td>(Harry Potter 1,)</td>\n",
       "      <td>(The Lord of the rings,)</td>\n",
       "      <td>0.005090</td>\n",
       "    </tr>\n",
       "    <tr>\n",
       "      <th>3</th>\n",
       "      <td>(Game of thrones,)</td>\n",
       "      <td>(Prision Break,)</td>\n",
       "      <td>0.004555</td>\n",
       "    </tr>\n",
       "    <tr>\n",
       "      <th>0</th>\n",
       "      <td>(Captain America,)</td>\n",
       "      <td>(Black Panther,)</td>\n",
       "      <td>0.003349</td>\n",
       "    </tr>\n",
       "    <tr>\n",
       "      <th>1</th>\n",
       "      <td>(Game of thrones,)</td>\n",
       "      <td>(Comedy nights with Kapil,)</td>\n",
       "      <td>0.003215</td>\n",
       "    </tr>\n",
       "  </tbody>\n",
       "</table>\n",
       "</div>"
      ],
      "text/plain": [
       "                      movie_1                      movie_2   support\n",
       "7             (Interstellar,)                 (inception,)  0.015941\n",
       "2        (Kanan Gill Comedy,)  (Comedy nights with Kapil,)  0.008038\n",
       "4           (Harry Potter 1,)            (Harry Potter 2,)  0.005760\n",
       "6    (crimes of grindelwald,)            (Harry Potter 2,)  0.005760\n",
       "8  (The Wolf of Wall Street,)                 (inception,)  0.005358\n",
       "5           (Harry Potter 1,)     (The Lord of the rings,)  0.005090\n",
       "3          (Game of thrones,)             (Prision Break,)  0.004555\n",
       "0          (Captain America,)             (Black Panther,)  0.003349\n",
       "1          (Game of thrones,)  (Comedy nights with Kapil,)  0.003215"
      ]
     },
     "execution_count": 59,
     "metadata": {},
     "output_type": "execute_result"
    }
   ],
   "source": [
    "resultinDataframe.nlargest(n=10, columns = 'support')"
   ]
  },
  {
   "cell_type": "code",
   "execution_count": 60,
   "id": "cb33fc67",
   "metadata": {},
   "outputs": [
    {
     "data": {
      "text/plain": [
       "movie_1    9\n",
       "movie_2    9\n",
       "support    9\n",
       "dtype: int64"
      ]
     },
     "execution_count": 60,
     "metadata": {},
     "output_type": "execute_result"
    }
   ],
   "source": [
    "resultinDataframe.count()"
   ]
  },
  {
   "cell_type": "code",
   "execution_count": null,
   "id": "7597ffcc",
   "metadata": {},
   "outputs": [],
   "source": []
  }
 ],
 "metadata": {
  "kernelspec": {
   "display_name": "Python 3 (ipykernel)",
   "language": "python",
   "name": "python3"
  },
  "language_info": {
   "codemirror_mode": {
    "name": "ipython",
    "version": 3
   },
   "file_extension": ".py",
   "mimetype": "text/x-python",
   "name": "python",
   "nbconvert_exporter": "python",
   "pygments_lexer": "ipython3",
   "version": "3.11.5"
  }
 },
 "nbformat": 4,
 "nbformat_minor": 5
}
