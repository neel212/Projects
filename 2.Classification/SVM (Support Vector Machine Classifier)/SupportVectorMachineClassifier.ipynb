{
 "cells": [
  {
   "cell_type": "code",
   "execution_count": 1,
   "id": "ea2c1320",
   "metadata": {},
   "outputs": [],
   "source": [
    "import numpy as np\n",
    "import pandas as pd"
   ]
  },
  {
   "cell_type": "code",
   "execution_count": 2,
   "id": "153eed9d",
   "metadata": {},
   "outputs": [],
   "source": [
    "data_set = pd.read_csv('Instagram ads SVM.csv')\n",
    "X = data_set.iloc[:,0:2].values\n",
    "y = data_set.iloc[:,2].values"
   ]
  },
  {
   "cell_type": "code",
   "execution_count": 3,
   "id": "74d1a6c1",
   "metadata": {},
   "outputs": [
    {
     "name": "stdout",
     "output_type": "stream",
     "text": [
      "[[   15  6334]\n",
      " [   28  6667]\n",
      " [   20 14334]\n",
      " [   21 19000]\n",
      " [   15 25334]\n",
      " [   21 19334]\n",
      " [   21 28000]\n",
      " [   25 50000]\n",
      " [   20 11000]\n",
      " [   28 21667]\n",
      " [   20 26667]\n",
      " [   26 17000]\n",
      " [   28 36000]\n",
      " [   18  6667]\n",
      " [   20 26334]\n",
      " [   21 18000]\n",
      " [   24 45000]\n",
      " [   24 29667]\n",
      " [   19 10667]\n",
      " [   14 14667]\n",
      " [   23 27667]\n",
      " [   28  7667]\n",
      " [   21 19334]\n",
      " [   19 18334]\n",
      " [   18 16000]\n",
      " [   22 26334]\n",
      " [   17  6000]\n",
      " [   25 39000]\n",
      " [   21  6667]\n",
      " [   20 29000]\n",
      " [   18 22000]\n",
      " [   25 40000]\n",
      " [   17 21000]\n",
      " [   24 22667]\n",
      " [   20 26667]\n",
      " [   19  9000]\n",
      " [   16  7667]\n",
      " [   26 37667]\n",
      " [   25  6000]\n",
      " [   27 37334]\n",
      " [   24 38667]\n",
      " [   20  5000]\n",
      " [   23  9334]\n",
      " [   23 27667]\n",
      " [   26 49667]\n",
      " [   15  7000]\n",
      " [   16 24000]\n",
      " [   20 11667]\n",
      " [   21 29667]\n",
      " [   20 28667]\n",
      " [   30 26667]\n",
      " [   31 23667]\n",
      " [   29 23667]\n",
      " [   20 30000]\n",
      " [   29 11000]\n",
      " [   17 18334]\n",
      " [   28 23667]\n",
      " [   23 49334]\n",
      " [   23 15667]\n",
      " [   16 29334]\n",
      " [   27 38334]\n",
      " [   20 39334]\n",
      " [   27 14334]\n",
      " [   27 24000]\n",
      " [   18  9334]\n",
      " [   28 15667]\n",
      " [   20  7334]\n",
      " [   19  7667]\n",
      " [   16 27334]\n",
      " [   26 13667]\n",
      " [   22 10667]\n",
      " [   19 28000]\n",
      " [   15  8667]\n",
      " [   23 14334]\n",
      " [   15 23334]\n",
      " [   22 29667]\n",
      " [   27 14334]\n",
      " [   24 26334]\n",
      " [   16 12000]\n",
      " [   20 26667]\n",
      " [   28  7334]\n",
      " [   28 13000]\n",
      " [   39 24667]\n",
      " [   31 44667]\n",
      " [   32 23667]\n",
      " [   46 33667]\n",
      " [   37 15667]\n",
      " [   44 43334]\n",
      " [   41 38000]\n",
      " [   32 47334]\n",
      " [   36  7334]\n",
      " [   38 32000]\n",
      " [   41 50000]\n",
      " [   28 19334]\n",
      " [   37 14334]\n",
      " [   48 36000]\n",
      " [   39 21667]\n",
      " [   32 26000]\n",
      " [   36 32000]\n",
      " [   47 47667]\n",
      " [   32 26667]\n",
      " [   28 30334]\n",
      " [   29 48000]\n",
      " [   48 34000]\n",
      " [   28 20000]\n",
      " [   29 17667]\n",
      " [   28 42000]\n",
      " [   44 44334]\n",
      " [   32 24000]\n",
      " [   33 26667]\n",
      " [   28 49000]\n",
      " [   31 14000]\n",
      " [   39 28667]\n",
      " [   36 26334]\n",
      " [   29 26667]\n",
      " [   36 27334]\n",
      " [   42 47667]\n",
      " [   33 49667]\n",
      " [   30 19667]\n",
      " [   40 29334]\n",
      " [   44 34667]\n",
      " [   32 24000]\n",
      " [   28 16667]\n",
      " [   45 40667]\n",
      " [   32 17334]\n",
      " [   28 32334]\n",
      " [   35 13000]\n",
      " [   29 17334]\n",
      " [   38 44667]\n",
      " [   29 48667]\n",
      " [   41 30000]\n",
      " [   32 24000]\n",
      " [   32 19000]\n",
      " [   46 31667]\n",
      " [   36 43667]\n",
      " [   28 48000]\n",
      " [   28 24000]\n",
      " [   38 30000]\n",
      " [   33 36000]\n",
      " [   32 25000]\n",
      " [   37 48000]\n",
      " [   32 20334]\n",
      " [   34 44334]\n",
      " [   47 25334]\n",
      " [   48 14000]\n",
      " [   31 35334]\n",
      " [   45  8667]\n",
      " [   45 24667]\n",
      " [   30 23667]\n",
      " [   39 29334]\n",
      " [   41 12667]\n",
      " [   40 12000]\n",
      " [   47 29334]\n",
      " [   28 20334]\n",
      " [   29 23334]\n",
      " [   41  7000]\n",
      " [   38 47000]\n",
      " [   29 31000]\n",
      " [   29 20667]\n",
      " [   38 46000]\n",
      " [   32 26334]\n",
      " [   29 26000]\n",
      " [   31 44667]\n",
      " [   39 29667]\n",
      " [   44 13000]\n",
      " [   29 25667]\n",
      " [   28 21000]\n",
      " [   33 24334]\n",
      " [   36 39000]\n",
      " [   38 24667]\n",
      " [   29 26334]\n",
      " [   32 20000]\n",
      " [   37 37667]\n",
      " [   30 16667]\n",
      " [   39 47000]\n",
      " [   31 26334]\n",
      " [   31 25000]\n",
      " [   43 34667]\n",
      " [   28 18334]\n",
      " [   36 10667]\n",
      " [   28 20000]\n",
      " [   41 46000]\n",
      " [   42 27334]\n",
      " [   32 17334]\n",
      " [   38 10000]\n",
      " [   38 43667]\n",
      " [   32 24000]\n",
      " [   37 35667]\n",
      " [   30 17000]\n",
      " [   38 39667]\n",
      " [   33 21667]\n",
      " [   32 21667]\n",
      " [   45 20000]\n",
      " [   28 18000]\n",
      " [   28 26334]\n",
      " [   34 43000]\n",
      " [   42 11334]\n",
      " [   37 16667]\n",
      " [   33 26334]]\n"
     ]
    }
   ],
   "source": [
    "print(X)"
   ]
  },
  {
   "cell_type": "code",
   "execution_count": 4,
   "id": "5c58629f",
   "metadata": {},
   "outputs": [
    {
     "name": "stdout",
     "output_type": "stream",
     "text": [
      "[0 0 0 0 0 0 0 1 0 0 0 0 0 0 0 0 1 0 0 0 0 0 0 0 0 0 0 0 0 0 0 1 0 0 0 0 0\n",
      " 0 0 1 0 0 0 0 1 0 0 0 0 0 0 0 0 0 0 0 0 1 0 0 0 0 0 0 0 0 0 0 0 0 0 0 0 0\n",
      " 0 0 0 0 0 0 0 0 0 1 0 1 0 1 0 1 0 1 1 0 0 1 0 0 0 1 0 1 1 1 0 0 1 1 0 1 1\n",
      " 0 1 1 0 0 1 1 0 1 1 0 0 1 0 1 0 0 1 1 1 0 0 1 1 1 0 1 1 0 1 0 0 1 1 1 1 1\n",
      " 0 1 1 1 1 0 1 1 0 1 0 1 0 1 1 1 1 0 0 1 1 1 1 0 1 0 1 0 1 1 0 1 0 1 1 0 1\n",
      " 1 0 1 0 1 0 0 1 0 0 1 1 1 0]\n"
     ]
    }
   ],
   "source": [
    "print(y)"
   ]
  },
  {
   "cell_type": "code",
   "execution_count": 85,
   "id": "27c7e7d1",
   "metadata": {},
   "outputs": [],
   "source": [
    "from sklearn.model_selection import train_test_split\n",
    "X_train, X_test, y_train, y_test = train_test_split(X, y, test_size=0.2, random_state=21)"
   ]
  },
  {
   "cell_type": "code",
   "execution_count": 86,
   "id": "4b17899e",
   "metadata": {},
   "outputs": [],
   "source": [
    "from sklearn.preprocessing import StandardScaler\n",
    "sc = StandardScaler()\n",
    "X_train = sc.fit_transform(X_train)\n",
    "X_test = sc.fit_transform(X_test)"
   ]
  },
  {
   "cell_type": "code",
   "execution_count": 87,
   "id": "38732f7b",
   "metadata": {},
   "outputs": [
    {
     "data": {
      "text/html": [
       "<style>#sk-container-id-11 {color: black;}#sk-container-id-11 pre{padding: 0;}#sk-container-id-11 div.sk-toggleable {background-color: white;}#sk-container-id-11 label.sk-toggleable__label {cursor: pointer;display: block;width: 100%;margin-bottom: 0;padding: 0.3em;box-sizing: border-box;text-align: center;}#sk-container-id-11 label.sk-toggleable__label-arrow:before {content: \"▸\";float: left;margin-right: 0.25em;color: #696969;}#sk-container-id-11 label.sk-toggleable__label-arrow:hover:before {color: black;}#sk-container-id-11 div.sk-estimator:hover label.sk-toggleable__label-arrow:before {color: black;}#sk-container-id-11 div.sk-toggleable__content {max-height: 0;max-width: 0;overflow: hidden;text-align: left;background-color: #f0f8ff;}#sk-container-id-11 div.sk-toggleable__content pre {margin: 0.2em;color: black;border-radius: 0.25em;background-color: #f0f8ff;}#sk-container-id-11 input.sk-toggleable__control:checked~div.sk-toggleable__content {max-height: 200px;max-width: 100%;overflow: auto;}#sk-container-id-11 input.sk-toggleable__control:checked~label.sk-toggleable__label-arrow:before {content: \"▾\";}#sk-container-id-11 div.sk-estimator input.sk-toggleable__control:checked~label.sk-toggleable__label {background-color: #d4ebff;}#sk-container-id-11 div.sk-label input.sk-toggleable__control:checked~label.sk-toggleable__label {background-color: #d4ebff;}#sk-container-id-11 input.sk-hidden--visually {border: 0;clip: rect(1px 1px 1px 1px);clip: rect(1px, 1px, 1px, 1px);height: 1px;margin: -1px;overflow: hidden;padding: 0;position: absolute;width: 1px;}#sk-container-id-11 div.sk-estimator {font-family: monospace;background-color: #f0f8ff;border: 1px dotted black;border-radius: 0.25em;box-sizing: border-box;margin-bottom: 0.5em;}#sk-container-id-11 div.sk-estimator:hover {background-color: #d4ebff;}#sk-container-id-11 div.sk-parallel-item::after {content: \"\";width: 100%;border-bottom: 1px solid gray;flex-grow: 1;}#sk-container-id-11 div.sk-label:hover label.sk-toggleable__label {background-color: #d4ebff;}#sk-container-id-11 div.sk-serial::before {content: \"\";position: absolute;border-left: 1px solid gray;box-sizing: border-box;top: 0;bottom: 0;left: 50%;z-index: 0;}#sk-container-id-11 div.sk-serial {display: flex;flex-direction: column;align-items: center;background-color: white;padding-right: 0.2em;padding-left: 0.2em;position: relative;}#sk-container-id-11 div.sk-item {position: relative;z-index: 1;}#sk-container-id-11 div.sk-parallel {display: flex;align-items: stretch;justify-content: center;background-color: white;position: relative;}#sk-container-id-11 div.sk-item::before, #sk-container-id-11 div.sk-parallel-item::before {content: \"\";position: absolute;border-left: 1px solid gray;box-sizing: border-box;top: 0;bottom: 0;left: 50%;z-index: -1;}#sk-container-id-11 div.sk-parallel-item {display: flex;flex-direction: column;z-index: 1;position: relative;background-color: white;}#sk-container-id-11 div.sk-parallel-item:first-child::after {align-self: flex-end;width: 50%;}#sk-container-id-11 div.sk-parallel-item:last-child::after {align-self: flex-start;width: 50%;}#sk-container-id-11 div.sk-parallel-item:only-child::after {width: 0;}#sk-container-id-11 div.sk-dashed-wrapped {border: 1px dashed gray;margin: 0 0.4em 0.5em 0.4em;box-sizing: border-box;padding-bottom: 0.4em;background-color: white;}#sk-container-id-11 div.sk-label label {font-family: monospace;font-weight: bold;display: inline-block;line-height: 1.2em;}#sk-container-id-11 div.sk-label-container {text-align: center;}#sk-container-id-11 div.sk-container {/* jupyter's `normalize.less` sets `[hidden] { display: none; }` but bootstrap.min.css set `[hidden] { display: none !important; }` so we also need the `!important` here to be able to override the default hidden behavior on the sphinx rendered scikit-learn.org. See: https://github.com/scikit-learn/scikit-learn/issues/21755 */display: inline-block !important;position: relative;}#sk-container-id-11 div.sk-text-repr-fallback {display: none;}</style><div id=\"sk-container-id-11\" class=\"sk-top-container\"><div class=\"sk-text-repr-fallback\"><pre>SVC(kernel=&#x27;linear&#x27;, random_state=21)</pre><b>In a Jupyter environment, please rerun this cell to show the HTML representation or trust the notebook. <br />On GitHub, the HTML representation is unable to render, please try loading this page with nbviewer.org.</b></div><div class=\"sk-container\" hidden><div class=\"sk-item\"><div class=\"sk-estimator sk-toggleable\"><input class=\"sk-toggleable__control sk-hidden--visually\" id=\"sk-estimator-id-11\" type=\"checkbox\" checked><label for=\"sk-estimator-id-11\" class=\"sk-toggleable__label sk-toggleable__label-arrow\">SVC</label><div class=\"sk-toggleable__content\"><pre>SVC(kernel=&#x27;linear&#x27;, random_state=21)</pre></div></div></div></div></div>"
      ],
      "text/plain": [
       "SVC(kernel='linear', random_state=21)"
      ]
     },
     "execution_count": 87,
     "metadata": {},
     "output_type": "execute_result"
    }
   ],
   "source": [
    "from sklearn.svm import SVC\n",
    "classifier = SVC(kernel = 'linear', random_state = 21)\n",
    "classifier.fit(X_train, y_train)"
   ]
  },
  {
   "cell_type": "code",
   "execution_count": 88,
   "id": "a9ca0c79",
   "metadata": {},
   "outputs": [
    {
     "data": {
      "text/plain": [
       "array([1], dtype=int64)"
      ]
     },
     "execution_count": 88,
     "metadata": {},
     "output_type": "execute_result"
    }
   ],
   "source": [
    "classifier.predict(sc.transform([[25,500000]]))"
   ]
  },
  {
   "cell_type": "code",
   "execution_count": 89,
   "id": "20aea5bb",
   "metadata": {},
   "outputs": [],
   "source": [
    "y_predict = classifier.predict(X_test)"
   ]
  },
  {
   "cell_type": "code",
   "execution_count": 90,
   "id": "8480a7fa",
   "metadata": {},
   "outputs": [
    {
     "name": "stdout",
     "output_type": "stream",
     "text": [
      "[[1 1]\n",
      " [0 0]\n",
      " [0 0]\n",
      " [0 0]\n",
      " [0 0]\n",
      " [0 0]\n",
      " [0 0]\n",
      " [1 1]\n",
      " [1 1]\n",
      " [1 1]\n",
      " [0 0]\n",
      " [0 0]\n",
      " [0 0]\n",
      " [1 1]\n",
      " [1 1]\n",
      " [1 1]\n",
      " [0 0]\n",
      " [1 1]\n",
      " [0 1]\n",
      " [0 0]\n",
      " [0 0]\n",
      " [0 0]\n",
      " [0 0]\n",
      " [0 1]\n",
      " [0 0]\n",
      " [0 0]\n",
      " [1 1]\n",
      " [1 1]\n",
      " [0 0]\n",
      " [0 0]\n",
      " [0 0]\n",
      " [1 1]\n",
      " [1 1]\n",
      " [0 0]\n",
      " [1 1]\n",
      " [0 0]\n",
      " [0 0]\n",
      " [0 1]\n",
      " [1 1]\n",
      " [0 0]]\n"
     ]
    }
   ],
   "source": [
    "np.set_printoptions(precision=3)\n",
    "print(np.concatenate((y_predict.reshape(len(y_predict),1),y_test.reshape(len(y_test),1)),1))"
   ]
  },
  {
   "cell_type": "code",
   "execution_count": 91,
   "id": "16f0e1ce",
   "metadata": {},
   "outputs": [
    {
     "name": "stdout",
     "output_type": "stream",
     "text": [
      "[[23  0]\n",
      " [ 3 14]]\n",
      "\n",
      "0.925\n",
      "\n",
      "0.6930946291560103\n"
     ]
    }
   ],
   "source": [
    "from sklearn.metrics import confusion_matrix, accuracy_score, r2_score\n",
    "cm = confusion_matrix(y_test,y_predict)\n",
    "print(cm)\n",
    "print()\n",
    "print(accuracy_score(y_test,y_predict))\n",
    "print()\n",
    "print(r2_score(y_test,y_predict))"
   ]
  },
  {
   "cell_type": "code",
   "execution_count": null,
   "id": "a452a58b",
   "metadata": {},
   "outputs": [],
   "source": []
  },
  {
   "cell_type": "code",
   "execution_count": null,
   "id": "06711a20",
   "metadata": {},
   "outputs": [],
   "source": []
  }
 ],
 "metadata": {
  "kernelspec": {
   "display_name": "Python 3 (ipykernel)",
   "language": "python",
   "name": "python3"
  },
  "language_info": {
   "codemirror_mode": {
    "name": "ipython",
    "version": 3
   },
   "file_extension": ".py",
   "mimetype": "text/x-python",
   "name": "python",
   "nbconvert_exporter": "python",
   "pygments_lexer": "ipython3",
   "version": "3.11.5"
  }
 },
 "nbformat": 4,
 "nbformat_minor": 5
}
