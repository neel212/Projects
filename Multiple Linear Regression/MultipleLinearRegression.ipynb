{
 "cells": [
  {
   "cell_type": "code",
   "execution_count": 1,
   "id": "fce551f7",
   "metadata": {},
   "outputs": [],
   "source": [
    "# Importing libraries\n",
    "import numpy as np\n",
    "import pandas as pd\n",
    "import matplotlib.pyplot as plt"
   ]
  },
  {
   "cell_type": "code",
   "execution_count": 2,
   "id": "699ffe7a",
   "metadata": {},
   "outputs": [],
   "source": [
    "data_set = pd.read_csv(\"Covid_Data_multiple_linear _regression.csv\")\n",
    "X = data_set.iloc[:,:-1].values\n",
    "y = data_set.iloc[:,-1].values"
   ]
  },
  {
   "cell_type": "code",
   "execution_count": 3,
   "id": "ee7919bc",
   "metadata": {},
   "outputs": [
    {
     "name": "stdout",
     "output_type": "stream",
     "text": [
      "The X values:  [[10 'Moderate' 0 97]\n",
      " [80 'High' 0 92]\n",
      " [10 'Low' 0 97]\n",
      " [81 'High' 4 75]\n",
      " [12 'Moderate' 0 97]\n",
      " [18 'Low' 0 66]\n",
      " [13 'Moderate' 0 93]\n",
      " [94 'High' 4 64]\n",
      " [86 'High' 2 76]\n",
      " [20 'Moderate' 0 92]\n",
      " [15 'Moderate' 0 94]\n",
      " [15 'Moderate' 0 92]\n",
      " [16 'Low' 0 92]\n",
      " [17 'Moderate' 0 93]\n",
      " [18 'Moderate' 0 93]\n",
      " [19 'Moderate' 0 92]\n",
      " [19 'Moderate' 0 89]\n",
      " [12 'Moderate' 0 97]\n",
      " [20 'Moderate' 0 93]\n",
      " [24 'Moderate' 0 92]\n",
      " [25 'Moderate' 0 93]\n",
      " [59 'High' 2 68]\n",
      " [63 'High' 1 66]\n",
      " [25 'Moderate' 1 62]\n",
      " [26 'High' 0 94]\n",
      " [26 'Low' 0 97]\n",
      " [28 'Moderate' 0 99]\n",
      " [59 'High' 0 69]\n",
      " [28 'Moderate' 0 89]\n",
      " [29 'Moderate' 0 93]\n",
      " [48 'Moderate' 0 93]\n",
      " [30 'Moderate' 0 62]\n",
      " [30 'Moderate' 0 86]\n",
      " [32 'Moderate' 0 84]\n",
      " [34 'Moderate' 1 90]\n",
      " [35 'Moderate' 0 89]\n",
      " [50 'High' 2 77]\n",
      " [56 'High' 2 76]\n",
      " [56 'High' 1 77]\n",
      " [36 'High' 1 90]\n",
      " [38 'High' 2 75]\n",
      " [40 'Moderate' 0 90]\n",
      " [40 'High' 0 92]\n",
      " [61 'High' 2 76]\n",
      " [42 'High' 0 92]\n",
      " [46 'High' 0 91]\n",
      " [49 'Moderate' 0 80]\n",
      " [52 'High' 1 80]\n",
      " [32 'Moderate' 0 89]\n",
      " [53 'High' 1 55]\n",
      " [54 'High' 1 70]\n",
      " [90 'High' 3 67]\n",
      " [78 'High' 2 71]\n",
      " [58 'High' 0 70]\n",
      " [60 'High' 1 68]\n",
      " [61 'Moderate' 0 90]\n",
      " [62 'High' 1 68]\n",
      " [86 'High' 3 71]\n",
      " [62 'High' 2 69]\n",
      " [64 'High' 1 73]\n",
      " [68 'High' 1 67]\n",
      " [69 'High' 0 53]\n",
      " [70 'Moderate' 1 88]\n",
      " [74 'High' 2 75]\n",
      " [75 'High' 1 72]\n",
      " [76 'High' 4 80]\n",
      " [35 'Moderate' 0 92]\n",
      " [13 'Moderate' 0 94]\n",
      " [82 'High' 3 73]\n",
      " [84 'High' 3 75]]\n",
      "\n",
      "The y values:  [127181  61004 111911  39010 110911  99110 110101  37914  45019  98101\n",
      " 101000 102019 100000  99910  99004  98191  98081 110911  97101  95202\n",
      "  95010  61002  59994  78010  92010  99008  93010  66019  93091  92101\n",
      "  83891  75012  91002  90015  90001  90124  71019  60801  67010  90191\n",
      "  78004  87019  88012  62019  87005  84008  77010  73010  91019  50104\n",
      "  61082  46016  52001  63091  62019  71191  61018  41891  56095  62001\n",
      "  59010  59913  67019  58010  57019  39010  91141 112101  42010  42099]\n"
     ]
    }
   ],
   "source": [
    "print(\"The X values: \",X)\n",
    "print()\n",
    "print(\"The y values: \", y)"
   ]
  },
  {
   "cell_type": "code",
   "execution_count": 4,
   "id": "13063b07",
   "metadata": {},
   "outputs": [
    {
     "data": {
      "text/plain": [
       "age                             0\n",
       "Body Temp                       0\n",
       "Chronic disease                 0\n",
       "Blood O2 Level in Percentage    0\n",
       "Anti Bodies                     0\n",
       "dtype: int64"
      ]
     },
     "execution_count": 4,
     "metadata": {},
     "output_type": "execute_result"
    }
   ],
   "source": [
    "data_set.isnull().sum()"
   ]
  },
  {
   "cell_type": "code",
   "execution_count": 5,
   "id": "65e6501d",
   "metadata": {},
   "outputs": [],
   "source": [
    "#Encoding\n",
    "from sklearn.compose import ColumnTransformer\n",
    "from sklearn.preprocessing import OneHotEncoder"
   ]
  },
  {
   "cell_type": "code",
   "execution_count": 9,
   "id": "b7b0f938",
   "metadata": {},
   "outputs": [],
   "source": [
    "ct = ColumnTransformer(transformers=[('encoder', OneHotEncoder(), [1])], remainder = 'passthrough')\n",
    "X = np.array(ct.fit_transform(X))"
   ]
  },
  {
   "cell_type": "code",
   "execution_count": 10,
   "id": "1ea4edf6",
   "metadata": {},
   "outputs": [
    {
     "name": "stdout",
     "output_type": "stream",
     "text": [
      "[[0.0 0.0 1.0 10 0 97]\n",
      " [1.0 0.0 0.0 80 0 92]\n",
      " [0.0 1.0 0.0 10 0 97]\n",
      " [1.0 0.0 0.0 81 4 75]\n",
      " [0.0 0.0 1.0 12 0 97]\n",
      " [0.0 1.0 0.0 18 0 66]\n",
      " [0.0 0.0 1.0 13 0 93]\n",
      " [1.0 0.0 0.0 94 4 64]\n",
      " [1.0 0.0 0.0 86 2 76]\n",
      " [0.0 0.0 1.0 20 0 92]\n",
      " [0.0 0.0 1.0 15 0 94]\n",
      " [0.0 0.0 1.0 15 0 92]\n",
      " [0.0 1.0 0.0 16 0 92]\n",
      " [0.0 0.0 1.0 17 0 93]\n",
      " [0.0 0.0 1.0 18 0 93]\n",
      " [0.0 0.0 1.0 19 0 92]\n",
      " [0.0 0.0 1.0 19 0 89]\n",
      " [0.0 0.0 1.0 12 0 97]\n",
      " [0.0 0.0 1.0 20 0 93]\n",
      " [0.0 0.0 1.0 24 0 92]\n",
      " [0.0 0.0 1.0 25 0 93]\n",
      " [1.0 0.0 0.0 59 2 68]\n",
      " [1.0 0.0 0.0 63 1 66]\n",
      " [0.0 0.0 1.0 25 1 62]\n",
      " [1.0 0.0 0.0 26 0 94]\n",
      " [0.0 1.0 0.0 26 0 97]\n",
      " [0.0 0.0 1.0 28 0 99]\n",
      " [1.0 0.0 0.0 59 0 69]\n",
      " [0.0 0.0 1.0 28 0 89]\n",
      " [0.0 0.0 1.0 29 0 93]\n",
      " [0.0 0.0 1.0 48 0 93]\n",
      " [0.0 0.0 1.0 30 0 62]\n",
      " [0.0 0.0 1.0 30 0 86]\n",
      " [0.0 0.0 1.0 32 0 84]\n",
      " [0.0 0.0 1.0 34 1 90]\n",
      " [0.0 0.0 1.0 35 0 89]\n",
      " [1.0 0.0 0.0 50 2 77]\n",
      " [1.0 0.0 0.0 56 2 76]\n",
      " [1.0 0.0 0.0 56 1 77]\n",
      " [1.0 0.0 0.0 36 1 90]\n",
      " [1.0 0.0 0.0 38 2 75]\n",
      " [0.0 0.0 1.0 40 0 90]\n",
      " [1.0 0.0 0.0 40 0 92]\n",
      " [1.0 0.0 0.0 61 2 76]\n",
      " [1.0 0.0 0.0 42 0 92]\n",
      " [1.0 0.0 0.0 46 0 91]\n",
      " [0.0 0.0 1.0 49 0 80]\n",
      " [1.0 0.0 0.0 52 1 80]\n",
      " [0.0 0.0 1.0 32 0 89]\n",
      " [1.0 0.0 0.0 53 1 55]\n",
      " [1.0 0.0 0.0 54 1 70]\n",
      " [1.0 0.0 0.0 90 3 67]\n",
      " [1.0 0.0 0.0 78 2 71]\n",
      " [1.0 0.0 0.0 58 0 70]\n",
      " [1.0 0.0 0.0 60 1 68]\n",
      " [0.0 0.0 1.0 61 0 90]\n",
      " [1.0 0.0 0.0 62 1 68]\n",
      " [1.0 0.0 0.0 86 3 71]\n",
      " [1.0 0.0 0.0 62 2 69]\n",
      " [1.0 0.0 0.0 64 1 73]\n",
      " [1.0 0.0 0.0 68 1 67]\n",
      " [1.0 0.0 0.0 69 0 53]\n",
      " [0.0 0.0 1.0 70 1 88]\n",
      " [1.0 0.0 0.0 74 2 75]\n",
      " [1.0 0.0 0.0 75 1 72]\n",
      " [1.0 0.0 0.0 76 4 80]\n",
      " [0.0 0.0 1.0 35 0 92]\n",
      " [0.0 0.0 1.0 13 0 94]\n",
      " [1.0 0.0 0.0 82 3 73]\n",
      " [1.0 0.0 0.0 84 3 75]]\n"
     ]
    }
   ],
   "source": [
    "print(X)"
   ]
  },
  {
   "cell_type": "code",
   "execution_count": 56,
   "id": "a175961f",
   "metadata": {},
   "outputs": [],
   "source": [
    "# Splitting data into training and test set\n",
    "from sklearn.model_selection import train_test_split\n",
    "X_train, X_test, y_train, y_test = train_test_split(X,y, test_size = 0.4, random_state = 0)"
   ]
  },
  {
   "cell_type": "code",
   "execution_count": 57,
   "id": "e020e789",
   "metadata": {},
   "outputs": [],
   "source": [
    "# Applying multiple Linear regression.\n",
    "from sklearn.linear_model import LinearRegression"
   ]
  },
  {
   "cell_type": "code",
   "execution_count": 58,
   "id": "d62efcfb",
   "metadata": {},
   "outputs": [
    {
     "data": {
      "text/html": [
       "<style>#sk-container-id-7 {color: black;}#sk-container-id-7 pre{padding: 0;}#sk-container-id-7 div.sk-toggleable {background-color: white;}#sk-container-id-7 label.sk-toggleable__label {cursor: pointer;display: block;width: 100%;margin-bottom: 0;padding: 0.3em;box-sizing: border-box;text-align: center;}#sk-container-id-7 label.sk-toggleable__label-arrow:before {content: \"▸\";float: left;margin-right: 0.25em;color: #696969;}#sk-container-id-7 label.sk-toggleable__label-arrow:hover:before {color: black;}#sk-container-id-7 div.sk-estimator:hover label.sk-toggleable__label-arrow:before {color: black;}#sk-container-id-7 div.sk-toggleable__content {max-height: 0;max-width: 0;overflow: hidden;text-align: left;background-color: #f0f8ff;}#sk-container-id-7 div.sk-toggleable__content pre {margin: 0.2em;color: black;border-radius: 0.25em;background-color: #f0f8ff;}#sk-container-id-7 input.sk-toggleable__control:checked~div.sk-toggleable__content {max-height: 200px;max-width: 100%;overflow: auto;}#sk-container-id-7 input.sk-toggleable__control:checked~label.sk-toggleable__label-arrow:before {content: \"▾\";}#sk-container-id-7 div.sk-estimator input.sk-toggleable__control:checked~label.sk-toggleable__label {background-color: #d4ebff;}#sk-container-id-7 div.sk-label input.sk-toggleable__control:checked~label.sk-toggleable__label {background-color: #d4ebff;}#sk-container-id-7 input.sk-hidden--visually {border: 0;clip: rect(1px 1px 1px 1px);clip: rect(1px, 1px, 1px, 1px);height: 1px;margin: -1px;overflow: hidden;padding: 0;position: absolute;width: 1px;}#sk-container-id-7 div.sk-estimator {font-family: monospace;background-color: #f0f8ff;border: 1px dotted black;border-radius: 0.25em;box-sizing: border-box;margin-bottom: 0.5em;}#sk-container-id-7 div.sk-estimator:hover {background-color: #d4ebff;}#sk-container-id-7 div.sk-parallel-item::after {content: \"\";width: 100%;border-bottom: 1px solid gray;flex-grow: 1;}#sk-container-id-7 div.sk-label:hover label.sk-toggleable__label {background-color: #d4ebff;}#sk-container-id-7 div.sk-serial::before {content: \"\";position: absolute;border-left: 1px solid gray;box-sizing: border-box;top: 0;bottom: 0;left: 50%;z-index: 0;}#sk-container-id-7 div.sk-serial {display: flex;flex-direction: column;align-items: center;background-color: white;padding-right: 0.2em;padding-left: 0.2em;position: relative;}#sk-container-id-7 div.sk-item {position: relative;z-index: 1;}#sk-container-id-7 div.sk-parallel {display: flex;align-items: stretch;justify-content: center;background-color: white;position: relative;}#sk-container-id-7 div.sk-item::before, #sk-container-id-7 div.sk-parallel-item::before {content: \"\";position: absolute;border-left: 1px solid gray;box-sizing: border-box;top: 0;bottom: 0;left: 50%;z-index: -1;}#sk-container-id-7 div.sk-parallel-item {display: flex;flex-direction: column;z-index: 1;position: relative;background-color: white;}#sk-container-id-7 div.sk-parallel-item:first-child::after {align-self: flex-end;width: 50%;}#sk-container-id-7 div.sk-parallel-item:last-child::after {align-self: flex-start;width: 50%;}#sk-container-id-7 div.sk-parallel-item:only-child::after {width: 0;}#sk-container-id-7 div.sk-dashed-wrapped {border: 1px dashed gray;margin: 0 0.4em 0.5em 0.4em;box-sizing: border-box;padding-bottom: 0.4em;background-color: white;}#sk-container-id-7 div.sk-label label {font-family: monospace;font-weight: bold;display: inline-block;line-height: 1.2em;}#sk-container-id-7 div.sk-label-container {text-align: center;}#sk-container-id-7 div.sk-container {/* jupyter's `normalize.less` sets `[hidden] { display: none; }` but bootstrap.min.css set `[hidden] { display: none !important; }` so we also need the `!important` here to be able to override the default hidden behavior on the sphinx rendered scikit-learn.org. See: https://github.com/scikit-learn/scikit-learn/issues/21755 */display: inline-block !important;position: relative;}#sk-container-id-7 div.sk-text-repr-fallback {display: none;}</style><div id=\"sk-container-id-7\" class=\"sk-top-container\"><div class=\"sk-text-repr-fallback\"><pre>LinearRegression()</pre><b>In a Jupyter environment, please rerun this cell to show the HTML representation or trust the notebook. <br />On GitHub, the HTML representation is unable to render, please try loading this page with nbviewer.org.</b></div><div class=\"sk-container\" hidden><div class=\"sk-item\"><div class=\"sk-estimator sk-toggleable\"><input class=\"sk-toggleable__control sk-hidden--visually\" id=\"sk-estimator-id-7\" type=\"checkbox\" checked><label for=\"sk-estimator-id-7\" class=\"sk-toggleable__label sk-toggleable__label-arrow\">LinearRegression</label><div class=\"sk-toggleable__content\"><pre>LinearRegression()</pre></div></div></div></div></div>"
      ],
      "text/plain": [
       "LinearRegression()"
      ]
     },
     "execution_count": 58,
     "metadata": {},
     "output_type": "execute_result"
    }
   ],
   "source": [
    "regressor = LinearRegression()\n",
    "regressor.fit(X_train,y_train)"
   ]
  },
  {
   "cell_type": "code",
   "execution_count": 59,
   "id": "1df2c45f",
   "metadata": {},
   "outputs": [
    {
     "name": "stdout",
     "output_type": "stream",
     "text": [
      "[ 98523.191  65402.264  91633.957  59006.199  83371.86   37389.494\n",
      "  30993.428  61449.821  88243.989  44653.711  60509.248  94138.001\n",
      "  81045.966  87382.408  89441.362  73918.161  45028.695  64830.56\n",
      "  62066.945 107662.326  49277.928  66394.372 110895.003  76026.676\n",
      " 103591.699  43955.278  61761.269  83187.824]\n"
     ]
    }
   ],
   "source": [
    "# Reshaping the data into (|y_predict| y_test|)columns\n",
    "y_predict = regressor.predict(X_test) \n",
    "np.set_printoptions(precision=3) # Setting precision =3 decimal places for y_predict values.\n",
    "print(y_predict)"
   ]
  },
  {
   "cell_type": "code",
   "execution_count": 63,
   "id": "aff14fcf",
   "metadata": {},
   "outputs": [
    {
     "name": "stdout",
     "output_type": "stream",
     "text": [
      "[[ 98523.191  93010.   ]\n",
      " [ 65402.264  66019.   ]\n",
      " [ 91633.957  91019.   ]\n",
      " [ 59006.199  59994.   ]\n",
      " [ 83371.86   83891.   ]\n",
      " [ 37389.494  46016.   ]\n",
      " [ 30993.428  37914.   ]\n",
      " [ 61449.821  62001.   ]\n",
      " [ 88243.989  90001.   ]\n",
      " [ 44653.711  42099.   ]\n",
      " [ 60509.248  61018.   ]\n",
      " [ 94138.001  93091.   ]\n",
      " [ 81045.966  75012.   ]\n",
      " [ 87382.408  88012.   ]\n",
      " [ 89441.362  90015.   ]\n",
      " [ 73918.161  71191.   ]\n",
      " [ 45028.695  42010.   ]\n",
      " [ 64830.56   67019.   ]\n",
      " [ 62066.945  62019.   ]\n",
      " [107662.326 110911.   ]\n",
      " [ 49277.928  39010.   ]\n",
      " [ 66394.372  61082.   ]\n",
      " [110895.003 111911.   ]\n",
      " [ 76026.676  78004.   ]\n",
      " [103591.699 102019.   ]\n",
      " [ 43955.278  39010.   ]\n",
      " [ 61761.269  62019.   ]\n",
      " [ 83187.824  84008.   ]]\n"
     ]
    }
   ],
   "source": [
    "print(np.concatenate((y_predict.reshape(len(y_predict),1), y_test.reshape(len(y_test),1)),1)) # The 1 as the second argument to \n",
    "#concatenate specifies that the concatenation \n",
    "#should be done horizontally (column-wise). So, it creates a new array where the y_predict and \n",
    "#y_test values are stacked side by side in two columns."
   ]
  },
  {
   "cell_type": "code",
   "execution_count": 66,
   "id": "c5ccb3c7",
   "metadata": {},
   "outputs": [
    {
     "data": {
      "image/png": "[encoded data removed]",
      "text/plain": [
       "<Figure size 640x480 with 1 Axes>"
      ]
     },
     "metadata": {},
     "output_type": "display_data"
    }
   ],
   "source": [
    "plt.plot(y_predict,'r')\n",
    "plt.plot(y_test,'y')\n",
    "plt.show()"
   ]
  },
  {
   "cell_type": "code",
   "execution_count": null,
   "id": "97eafec6",
   "metadata": {},
   "outputs": [],
   "source": []
  },
  {
   "cell_type": "code",
   "execution_count": null,
   "id": "d41d3ad4",
   "metadata": {},
   "outputs": [],
   "source": []
  },
  {
   "cell_type": "code",
   "execution_count": null,
   "id": "21c3c07f",
   "metadata": {},
   "outputs": [],
   "source": []
  }
 ],
 "metadata": {
  "kernelspec": {
   "display_name": "Python 3 (ipykernel)",
   "language": "python",
   "name": "python3"
  },
  "language_info": {
   "codemirror_mode": {
    "name": "ipython",
    "version": 3
   },
   "file_extension": ".py",
   "mimetype": "text/x-python",
   "name": "python",
   "nbconvert_exporter": "python",
   "pygments_lexer": "ipython3",
   "version": "3.11.5"
  }
 },
 "nbformat": 4,
 "nbformat_minor": 5
}
