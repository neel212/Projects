{
 "cells": [
  {
   "cell_type": "code",
   "execution_count": 18,
   "id": "995f5e6f",
   "metadata": {},
   "outputs": [],
   "source": [
    "import numpy as np\n",
    "import pandas as pd\n",
    "import matplotlib.pyplot as plt\n",
    "import math as m"
   ]
  },
  {
   "cell_type": "code",
   "execution_count": 19,
   "id": "d6ca2969",
   "metadata": {},
   "outputs": [],
   "source": [
    "data_set = pd.read_csv('Upper Confidence Bound Facebook ads.csv')"
   ]
  },
  {
   "cell_type": "code",
   "execution_count": 20,
   "id": "a14f42ba",
   "metadata": {},
   "outputs": [],
   "source": [
    "# We do not need to split the data here in X and Y frame because we are not predicting the values here. We trying to calculate\n",
    "# which ad is choosen, open and watch the most number of times out of the all ads."
   ]
  },
  {
   "cell_type": "code",
   "execution_count": 71,
   "id": "b0b943a3",
   "metadata": {},
   "outputs": [],
   "source": [
    "T = 500\n",
    "no_of_ads = 10\n",
    "AdSelected = []\n",
    "NoOfSelectedAd = [0]*no_of_ads\n",
    "SumOfRewards = [0]*no_of_ads\n",
    "totalRewards = 0\n",
    "\n",
    "for n in range(0,T):\n",
    "    ad = 0\n",
    "    maxUpperBound = 0\n",
    "    for i in range(0,no_of_ads):\n",
    "        if(NoOfSelectedAd[i]>0):\n",
    "            avgReward = SumOfRewards[i]/NoOfSelectedAd[i]\n",
    "            Delta_i = m.sqrt(3/2 * m.log(n+1)/NoOfSelectedAd[i]) # n is starting from '0'.\n",
    "            upperBound = avgReward + Delta_i\n",
    "        else:\n",
    "            upperBound = 1e400\n",
    "        if(maxUpperBound<upperBound):\n",
    "            maxUpperBound = upperBound\n",
    "            ad = i\n",
    "    AdSelected.append(ad)\n",
    "    NoOfSelectedAd[ad] = NoOfSelectedAd[ad] + 1\n",
    "    rewards = data_set.values[n , ad]\n",
    "    SumOfRewards[ad] = SumOfRewards[ad] +  rewards\n",
    "    totalRewards = totalRewards + rewards"
   ]
  },
  {
   "cell_type": "code",
   "execution_count": 72,
   "id": "a6c8c474",
   "metadata": {},
   "outputs": [
    {
     "data": {
      "image/png": "[encoded data removed]",
      "text/plain": [
       "<Figure size 640x480 with 1 Axes>"
      ]
     },
     "metadata": {},
     "output_type": "display_data"
    }
   ],
   "source": [
    "plt.hist(AdSelected)\n",
    "plt.title('Histogram of ads Selection', fontsize = 10)\n",
    "plt.xlabel('Ads', fontsize = 8)\n",
    "plt.ylabel('Number of times each ad was selected', fontsize = 8)\n",
    "plt.show()"
   ]
  },
  {
   "cell_type": "code",
   "execution_count": 51,
   "id": "1d8b61dc",
   "metadata": {},
   "outputs": [
    {
     "name": "stdout",
     "output_type": "stream",
     "text": [
      "[0, 1, 2, 3, 4, 5, 6, 7, 8, 9, 1, 0, 2, 3, 4, 5, 6, 7, 8, 9, 1, 1, 0, 2, 3, 3, 4, 5, 6, 7, 8, 9, 1, 3, 0, 2, 4, 5, 5, 6, 7, 8, 9, 1, 3, 5, 0, 2, 4, 6, 7, 8, 8, 9, 1, 3, 5, 8, 0, 0, 2, 4, 4, 6, 7, 7, 9, 0, 1, 3, 4, 5, 7, 8, 2, 6, 9, 0, 0, 0, 0, 1, 3, 4, 5, 7, 8, 8, 8, 8, 0, 8, 2, 6, 9, 1, 3, 4, 5, 7, 0, 8, 1, 1, 3, 4, 5, 7, 2, 6, 9, 1, 0, 0, 0, 0, 8, 8, 8, 0, 3, 3, 4, 4, 5, 7, 1, 3, 4, 2, 6, 9, 8, 0, 1, 3, 3, 4, 4, 5, 7, 3, 4, 8, 2, 6, 9, 0, 3, 4, 1, 8, 8, 5, 7, 0, 8, 2, 2, 2, 6, 9, 3, 4, 0, 8, 1, 2, 5, 7, 6, 9, 0, 8, 3, 4, 1, 2, 5, 7, 0, 8, 8, 8, 6, 9, 3, 4, 1, 2, 5, 7, 8, 0, 3, 4, 6, 9, 1, 8, 0, 2, 5, 5, 5, 7, 3, 4, 1, 5, 8, 6, 9, 0, 2, 7, 3, 3, 3, 4, 8, 0, 1, 1, 1, 1, 1, 5, 1, 6, 9, 3, 4, 2, 7, 8, 0, 5, 1, 1, 1, 3, 3, 3, 3, 3, 3, 3, 3, 3, 3, 3, 3, 3, 3, 3, 3, 6, 9, 8, 4, 3, 2, 7, 0, 0, 0, 0, 0, 0, 0, 1, 0, 5, 3, 8, 8, 8, 4, 6, 9, 1, 1, 1, 1, 1, 2, 7, 7, 7, 0, 1, 1, 1, 8, 8, 8, 8, 8, 3, 3, 3, 5, 7, 8, 4, 0, 1, 3, 6, 9, 2, 8, 8, 8, 5, 5, 5, 7, 3, 3, 3, 0, 1, 4, 5, 8, 6, 9, 3, 2, 0, 1, 7, 8, 4, 5, 3, 0, 1, 6, 9, 2, 2, 2, 8, 8, 8, 8, 8, 2, 7, 3, 8, 8, 8, 4, 5, 0, 1, 3, 8, 8, 8, 8, 8, 6, 9, 8, 2, 7, 4, 5, 0, 1, 3, 8, 3, 3, 3, 2, 7, 0, 1, 6, 9, 4, 5, 5, 5, 8, 5, 3, 3, 3, 3, 3, 3, 0, 1, 8, 2, 7, 4, 6, 9, 3, 5, 8, 0, 0, 0, 1, 3, 0, 2, 7, 4, 8, 5, 6, 9, 1, 3, 0, 8, 8, 8, 2, 7, 4, 3, 8, 5, 1, 6, 9, 0, 3, 3, 3, 3, 3, 3, 3, 3, 3, 3, 3, 3, 3, 3, 3, 3, 3, 3, 3, 3, 3, 3, 3, 3, 3, 3, 8, 3, 1, 4, 2, 2, 2, 2, 7, 5, 0, 3, 8, 6, 9, 1, 3, 2, 2, 2, 4, 2, 5, 7, 0, 8, 3, 3, 3, 3, 3, 3, 1, 1, 1, 1]\n"
     ]
    }
   ],
   "source": [
    "print(AdSelected)"
   ]
  },
  {
   "cell_type": "code",
   "execution_count": 52,
   "id": "d6264512",
   "metadata": {},
   "outputs": [
    {
     "name": "stdout",
     "output_type": "stream",
     "text": [
      "[55, 56, 41, 105, 38, 41, 28, 35, 73, 28]\n"
     ]
    }
   ],
   "source": [
    "print(NoOfSelectedAd)"
   ]
  },
  {
   "cell_type": "code",
   "execution_count": 54,
   "id": "cadd4778",
   "metadata": {},
   "outputs": [
    {
     "name": "stdout",
     "output_type": "stream",
     "text": [
      "105\n"
     ]
    }
   ],
   "source": [
    "count =0\n",
    "for i in range(len(AdSelected)):\n",
    "    if(AdSelected[i]==3):\n",
    "        count+=1\n",
    "print(count)"
   ]
  },
  {
   "cell_type": "code",
   "execution_count": 63,
   "id": "99da3562",
   "metadata": {},
   "outputs": [
    {
     "name": "stdout",
     "output_type": "stream",
     "text": [
      "77\n"
     ]
    }
   ],
   "source": [
    "print(totalRewards)"
   ]
  },
  {
   "cell_type": "code",
   "execution_count": 64,
   "id": "f97cacdf",
   "metadata": {},
   "outputs": [
    {
     "data": {
      "text/plain": [
       "1"
      ]
     },
     "execution_count": 64,
     "metadata": {},
     "output_type": "execute_result"
    }
   ],
   "source": [
    "data_set.values[0,3]"
   ]
  },
  {
   "cell_type": "code",
   "execution_count": null,
   "id": "9414c313",
   "metadata": {},
   "outputs": [],
   "source": []
  }
 ],
 "metadata": {
  "kernelspec": {
   "display_name": "Python 3 (ipykernel)",
   "language": "python",
   "name": "python3"
  },
  "language_info": {
   "codemirror_mode": {
    "name": "ipython",
    "version": 3
   },
   "file_extension": ".py",
   "mimetype": "text/x-python",
   "name": "python",
   "nbconvert_exporter": "python",
   "pygments_lexer": "ipython3",
   "version": "3.11.5"
  }
 },
 "nbformat": 4,
 "nbformat_minor": 5
}
